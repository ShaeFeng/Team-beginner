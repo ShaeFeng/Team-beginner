{
 "cells": [
  {
   "cell_type": "code",
   "execution_count": 28,
   "metadata": {
    "scrolled": true
   },
   "outputs": [
    {
     "data": {
      "text/html": [
       "<div>\n",
       "<style scoped>\n",
       "    .dataframe tbody tr th:only-of-type {\n",
       "        vertical-align: middle;\n",
       "    }\n",
       "\n",
       "    .dataframe tbody tr th {\n",
       "        vertical-align: top;\n",
       "    }\n",
       "\n",
       "    .dataframe thead th {\n",
       "        text-align: right;\n",
       "    }\n",
       "</style>\n",
       "<table border=\"1\" class=\"dataframe\">\n",
       "  <thead>\n",
       "    <tr style=\"text-align: right;\">\n",
       "      <th></th>\n",
       "      <th>acousticness</th>\n",
       "      <th>artists</th>\n",
       "      <th>danceability</th>\n",
       "      <th>duration_ms</th>\n",
       "      <th>energy</th>\n",
       "      <th>explicit</th>\n",
       "      <th>instrumentalness</th>\n",
       "      <th>key</th>\n",
       "      <th>liveness</th>\n",
       "      <th>loudness</th>\n",
       "      <th>name</th>\n",
       "      <th>popularity</th>\n",
       "      <th>speechiness</th>\n",
       "      <th>tempo</th>\n",
       "      <th>valence</th>\n",
       "      <th>year</th>\n",
       "    </tr>\n",
       "  </thead>\n",
       "  <tbody>\n",
       "    <tr>\n",
       "      <th>1151</th>\n",
       "      <td>0.9850</td>\n",
       "      <td>['Franz Schubert', 'Isaac Stern']</td>\n",
       "      <td>0.364</td>\n",
       "      <td>248627</td>\n",
       "      <td>0.0552</td>\n",
       "      <td>0</td>\n",
       "      <td>0.537000</td>\n",
       "      <td>2</td>\n",
       "      <td>0.0946</td>\n",
       "      <td>-23.253</td>\n",
       "      <td>Sonata for Violin and Piano No. 1 in D Major, ...</td>\n",
       "      <td>4</td>\n",
       "      <td>0.0438</td>\n",
       "      <td>123.672</td>\n",
       "      <td>0.3180</td>\n",
       "      <td>1950</td>\n",
       "    </tr>\n",
       "    <tr>\n",
       "      <th>1198</th>\n",
       "      <td>0.0550</td>\n",
       "      <td>['Marika Rossa', 'Alberto Ruiz']</td>\n",
       "      <td>0.754</td>\n",
       "      <td>330000</td>\n",
       "      <td>0.7390</td>\n",
       "      <td>0</td>\n",
       "      <td>0.871000</td>\n",
       "      <td>7</td>\n",
       "      <td>0.1090</td>\n",
       "      <td>-6.333</td>\n",
       "      <td>Back To The Old School ( V2 ) - Original Stick</td>\n",
       "      <td>13</td>\n",
       "      <td>0.0636</td>\n",
       "      <td>128.005</td>\n",
       "      <td>0.2120</td>\n",
       "      <td>1951</td>\n",
       "    </tr>\n",
       "    <tr>\n",
       "      <th>1289</th>\n",
       "      <td>0.9900</td>\n",
       "      <td>['Sonny Terry']</td>\n",
       "      <td>0.616</td>\n",
       "      <td>152693</td>\n",
       "      <td>0.1210</td>\n",
       "      <td>0</td>\n",
       "      <td>0.771000</td>\n",
       "      <td>4</td>\n",
       "      <td>0.3160</td>\n",
       "      <td>-17.309</td>\n",
       "      <td>Alcoholic Blues</td>\n",
       "      <td>3</td>\n",
       "      <td>0.0641</td>\n",
       "      <td>83.076</td>\n",
       "      <td>0.8480</td>\n",
       "      <td>1952</td>\n",
       "    </tr>\n",
       "    <tr>\n",
       "      <th>1299</th>\n",
       "      <td>0.8660</td>\n",
       "      <td>['Wallace House']</td>\n",
       "      <td>0.663</td>\n",
       "      <td>195413</td>\n",
       "      <td>0.1500</td>\n",
       "      <td>0</td>\n",
       "      <td>0.000000</td>\n",
       "      <td>7</td>\n",
       "      <td>0.0758</td>\n",
       "      <td>-14.195</td>\n",
       "      <td>On Ilkley Moor Bar t'At</td>\n",
       "      <td>11</td>\n",
       "      <td>0.3220</td>\n",
       "      <td>69.256</td>\n",
       "      <td>0.6430</td>\n",
       "      <td>1952</td>\n",
       "    </tr>\n",
       "    <tr>\n",
       "      <th>1399</th>\n",
       "      <td>0.9790</td>\n",
       "      <td>['Ludwig van Beethoven', 'Daniel Barenboim', '...</td>\n",
       "      <td>0.184</td>\n",
       "      <td>568880</td>\n",
       "      <td>0.0233</td>\n",
       "      <td>0</td>\n",
       "      <td>0.947000</td>\n",
       "      <td>11</td>\n",
       "      <td>0.0940</td>\n",
       "      <td>-30.240</td>\n",
       "      <td>Concerto for Piano and Orchestra No. 5 in E-Fl...</td>\n",
       "      <td>6</td>\n",
       "      <td>0.0368</td>\n",
       "      <td>67.309</td>\n",
       "      <td>0.0822</td>\n",
       "      <td>1953</td>\n",
       "    </tr>\n",
       "    <tr>\n",
       "      <th>...</th>\n",
       "      <td>...</td>\n",
       "      <td>...</td>\n",
       "      <td>...</td>\n",
       "      <td>...</td>\n",
       "      <td>...</td>\n",
       "      <td>...</td>\n",
       "      <td>...</td>\n",
       "      <td>...</td>\n",
       "      <td>...</td>\n",
       "      <td>...</td>\n",
       "      <td>...</td>\n",
       "      <td>...</td>\n",
       "      <td>...</td>\n",
       "      <td>...</td>\n",
       "      <td>...</td>\n",
       "      <td>...</td>\n",
       "    </tr>\n",
       "    <tr>\n",
       "      <th>169904</th>\n",
       "      <td>0.1730</td>\n",
       "      <td>['DripReport', 'Tyga']</td>\n",
       "      <td>0.875</td>\n",
       "      <td>163800</td>\n",
       "      <td>0.4430</td>\n",
       "      <td>1</td>\n",
       "      <td>0.000032</td>\n",
       "      <td>1</td>\n",
       "      <td>0.0891</td>\n",
       "      <td>-7.461</td>\n",
       "      <td>Skechers (feat. Tyga) - Remix</td>\n",
       "      <td>75</td>\n",
       "      <td>0.1430</td>\n",
       "      <td>100.012</td>\n",
       "      <td>0.3060</td>\n",
       "      <td>2020</td>\n",
       "    </tr>\n",
       "    <tr>\n",
       "      <th>169905</th>\n",
       "      <td>0.0167</td>\n",
       "      <td>['Leon Bridges', 'Terrace Martin']</td>\n",
       "      <td>0.719</td>\n",
       "      <td>167468</td>\n",
       "      <td>0.3850</td>\n",
       "      <td>0</td>\n",
       "      <td>0.031300</td>\n",
       "      <td>8</td>\n",
       "      <td>0.1110</td>\n",
       "      <td>-10.907</td>\n",
       "      <td>Sweeter (feat. Terrace Martin)</td>\n",
       "      <td>64</td>\n",
       "      <td>0.0403</td>\n",
       "      <td>128.000</td>\n",
       "      <td>0.2700</td>\n",
       "      <td>2020</td>\n",
       "    </tr>\n",
       "    <tr>\n",
       "      <th>169906</th>\n",
       "      <td>0.5380</td>\n",
       "      <td>['Kygo', 'Oh Wonder']</td>\n",
       "      <td>0.514</td>\n",
       "      <td>180700</td>\n",
       "      <td>0.5390</td>\n",
       "      <td>0</td>\n",
       "      <td>0.002330</td>\n",
       "      <td>7</td>\n",
       "      <td>0.1080</td>\n",
       "      <td>-9.332</td>\n",
       "      <td>How Would I Know</td>\n",
       "      <td>70</td>\n",
       "      <td>0.1050</td>\n",
       "      <td>123.700</td>\n",
       "      <td>0.1530</td>\n",
       "      <td>2020</td>\n",
       "    </tr>\n",
       "    <tr>\n",
       "      <th>169907</th>\n",
       "      <td>0.0714</td>\n",
       "      <td>['Cash Cash', 'Andy Grammer']</td>\n",
       "      <td>0.646</td>\n",
       "      <td>167308</td>\n",
       "      <td>0.7610</td>\n",
       "      <td>0</td>\n",
       "      <td>0.000000</td>\n",
       "      <td>1</td>\n",
       "      <td>0.2220</td>\n",
       "      <td>-2.557</td>\n",
       "      <td>I Found You</td>\n",
       "      <td>70</td>\n",
       "      <td>0.0385</td>\n",
       "      <td>129.916</td>\n",
       "      <td>0.4720</td>\n",
       "      <td>2020</td>\n",
       "    </tr>\n",
       "    <tr>\n",
       "      <th>169908</th>\n",
       "      <td>0.1090</td>\n",
       "      <td>['Ingrid Andress']</td>\n",
       "      <td>0.512</td>\n",
       "      <td>214787</td>\n",
       "      <td>0.4280</td>\n",
       "      <td>0</td>\n",
       "      <td>0.000000</td>\n",
       "      <td>0</td>\n",
       "      <td>0.1050</td>\n",
       "      <td>-7.387</td>\n",
       "      <td>More Hearts Than Mine</td>\n",
       "      <td>65</td>\n",
       "      <td>0.0271</td>\n",
       "      <td>80.588</td>\n",
       "      <td>0.3660</td>\n",
       "      <td>2020</td>\n",
       "    </tr>\n",
       "  </tbody>\n",
       "</table>\n",
       "<p>134228 rows × 16 columns</p>\n",
       "</div>"
      ],
      "text/plain": [
       "        acousticness                                            artists  \\\n",
       "1151          0.9850                  ['Franz Schubert', 'Isaac Stern']   \n",
       "1198          0.0550                   ['Marika Rossa', 'Alberto Ruiz']   \n",
       "1289          0.9900                                    ['Sonny Terry']   \n",
       "1299          0.8660                                  ['Wallace House']   \n",
       "1399          0.9790  ['Ludwig van Beethoven', 'Daniel Barenboim', '...   \n",
       "...              ...                                                ...   \n",
       "169904        0.1730                             ['DripReport', 'Tyga']   \n",
       "169905        0.0167                 ['Leon Bridges', 'Terrace Martin']   \n",
       "169906        0.5380                              ['Kygo', 'Oh Wonder']   \n",
       "169907        0.0714                      ['Cash Cash', 'Andy Grammer']   \n",
       "169908        0.1090                                 ['Ingrid Andress']   \n",
       "\n",
       "        danceability  duration_ms  energy  explicit  instrumentalness  key  \\\n",
       "1151           0.364       248627  0.0552         0          0.537000    2   \n",
       "1198           0.754       330000  0.7390         0          0.871000    7   \n",
       "1289           0.616       152693  0.1210         0          0.771000    4   \n",
       "1299           0.663       195413  0.1500         0          0.000000    7   \n",
       "1399           0.184       568880  0.0233         0          0.947000   11   \n",
       "...              ...          ...     ...       ...               ...  ...   \n",
       "169904         0.875       163800  0.4430         1          0.000032    1   \n",
       "169905         0.719       167468  0.3850         0          0.031300    8   \n",
       "169906         0.514       180700  0.5390         0          0.002330    7   \n",
       "169907         0.646       167308  0.7610         0          0.000000    1   \n",
       "169908         0.512       214787  0.4280         0          0.000000    0   \n",
       "\n",
       "        liveness  loudness                                               name  \\\n",
       "1151      0.0946   -23.253  Sonata for Violin and Piano No. 1 in D Major, ...   \n",
       "1198      0.1090    -6.333     Back To The Old School ( V2 ) - Original Stick   \n",
       "1289      0.3160   -17.309                                    Alcoholic Blues   \n",
       "1299      0.0758   -14.195                            On Ilkley Moor Bar t'At   \n",
       "1399      0.0940   -30.240  Concerto for Piano and Orchestra No. 5 in E-Fl...   \n",
       "...          ...       ...                                                ...   \n",
       "169904    0.0891    -7.461                      Skechers (feat. Tyga) - Remix   \n",
       "169905    0.1110   -10.907                     Sweeter (feat. Terrace Martin)   \n",
       "169906    0.1080    -9.332                                   How Would I Know   \n",
       "169907    0.2220    -2.557                                        I Found You   \n",
       "169908    0.1050    -7.387                              More Hearts Than Mine   \n",
       "\n",
       "        popularity  speechiness    tempo  valence  year  \n",
       "1151             4       0.0438  123.672   0.3180  1950  \n",
       "1198            13       0.0636  128.005   0.2120  1951  \n",
       "1289             3       0.0641   83.076   0.8480  1952  \n",
       "1299            11       0.3220   69.256   0.6430  1952  \n",
       "1399             6       0.0368   67.309   0.0822  1953  \n",
       "...            ...          ...      ...      ...   ...  \n",
       "169904          75       0.1430  100.012   0.3060  2020  \n",
       "169905          64       0.0403  128.000   0.2700  2020  \n",
       "169906          70       0.1050  123.700   0.1530  2020  \n",
       "169907          70       0.0385  129.916   0.4720  2020  \n",
       "169908          65       0.0271   80.588   0.3660  2020  \n",
       "\n",
       "[134228 rows x 16 columns]"
      ]
     },
     "execution_count": 28,
     "metadata": {},
     "output_type": "execute_result"
    }
   ],
   "source": [
    "import pandas as pd\n",
    "import numpy as np\n",
    "from sklearn.model_selection import train_test_split\n",
    "from sklearn.linear_model import LogisticRegression\n",
    "from sklearn.linear_model import LinearRegression\n",
    "from sklearn.metrics import accuracy_score, precision_score, recall_score\n",
    "from sklearn import metrics\n",
    "\n",
    "file_name = \"spotify_utf.csv\"\n",
    "df_data = pd.read_csv(file_name)\n",
    "df_data.head()\n",
    "\n",
    "df_data_clear = df_data.drop(columns=['id','release_date','mode'])\n",
    "df_data_clear = df_data_clear.drop(df_data_clear[df_data_clear['year']<1950].index)\n",
    "df_data_clear = df_data_clear.drop(df_data_clear[df_data_clear['popularity']<=2].index)\n",
    "df_data_clear"
   ]
  },
  {
   "cell_type": "code",
   "execution_count": 29,
   "metadata": {},
   "outputs": [],
   "source": [
    "from sklearn.datasets import make_moons\n",
    "from sklearn.metrics import accuracy_score\n",
    "from sklearn.model_selection import train_test_split\n",
    "from sklearn.tree import DecisionTreeClassifier\n",
    "from sklearn.ensemble import RandomForestClassifier,AdaBoostClassifier"
   ]
  },
  {
   "cell_type": "code",
   "execution_count": 30,
   "metadata": {},
   "outputs": [
    {
     "data": {
      "text/plain": [
       "(134183, 16)"
      ]
     },
     "execution_count": 30,
     "metadata": {},
     "output_type": "execute_result"
    }
   ],
   "source": [
    "df_data_clear.duplicated().sum()\n",
    "df_data_clear = df_data_clear[~df_data_clear.duplicated()==1]\n",
    "df_data_clear.shape"
   ]
  },
  {
   "cell_type": "code",
   "execution_count": 31,
   "metadata": {},
   "outputs": [
    {
     "name": "stderr",
     "output_type": "stream",
     "text": [
      "<ipython-input-31-f2f9a1a4a32a>:1: SettingWithCopyWarning: \n",
      "A value is trying to be set on a copy of a slice from a DataFrame\n",
      "\n",
      "See the caveats in the documentation: https://pandas.pydata.org/pandas-docs/stable/user_guide/indexing.html#returning-a-view-versus-a-copy\n",
      "  df_data_clear[\"popularity\"][df_data_clear.popularity<=50]=0\n",
      "D:\\Anaconda\\lib\\site-packages\\pandas\\core\\generic.py:8765: SettingWithCopyWarning: \n",
      "A value is trying to be set on a copy of a slice from a DataFrame\n",
      "\n",
      "See the caveats in the documentation: https://pandas.pydata.org/pandas-docs/stable/user_guide/indexing.html#returning-a-view-versus-a-copy\n",
      "  self._update_inplace(new_data)\n",
      "<ipython-input-31-f2f9a1a4a32a>:2: SettingWithCopyWarning: \n",
      "A value is trying to be set on a copy of a slice from a DataFrame\n",
      "\n",
      "See the caveats in the documentation: https://pandas.pydata.org/pandas-docs/stable/user_guide/indexing.html#returning-a-view-versus-a-copy\n",
      "  df_data_clear[\"popularity\"][df_data_clear.popularity>50]=1\n"
     ]
    },
    {
     "data": {
      "text/plain": [
       "0    98359\n",
       "1    35824\n",
       "Name: popularity, dtype: int64"
      ]
     },
     "execution_count": 31,
     "metadata": {},
     "output_type": "execute_result"
    }
   ],
   "source": [
    "df_data_clear[\"popularity\"][df_data_clear.popularity<=50]=0\n",
    "df_data_clear[\"popularity\"][df_data_clear.popularity>50]=1\n",
    "\n",
    "df_data_clear[\"popularity\"].value_counts()"
   ]
  },
  {
   "cell_type": "code",
   "execution_count": 32,
   "metadata": {},
   "outputs": [],
   "source": [
    "X_col = ['acousticness', 'danceability', 'duration_ms', 'energy', \n",
    "          'instrumentalness', 'key', 'liveness', 'loudness', \n",
    "          'speechiness', 'tempo', 'valence','year','explicit']"
   ]
  },
  {
   "cell_type": "code",
   "execution_count": 33,
   "metadata": {},
   "outputs": [],
   "source": [
    "X = df_data_clear[X_col]\n",
    "y = df_data_clear['popularity']"
   ]
  },
  {
   "cell_type": "code",
   "execution_count": 34,
   "metadata": {},
   "outputs": [],
   "source": [
    "from sklearn.preprocessing import MinMaxScaler\n",
    "X = MinMaxScaler().fit_transform(X)"
   ]
  },
  {
   "cell_type": "code",
   "execution_count": 35,
   "metadata": {},
   "outputs": [],
   "source": [
    "X_train, X_test, y_train, y_test = train_test_split(X, y, test_size=0.25,random_state=123)"
   ]
  },
  {
   "cell_type": "code",
   "execution_count": 36,
   "metadata": {},
   "outputs": [],
   "source": [
    "train_scores = []\n",
    "test_scores = []\n",
    "\n",
    "rf = RandomForestClassifier(random_state=0)\n",
    "estimator_range = range(1, 100, 5)\n",
    "\n",
    "for n_estimators in estimator_range:\n",
    "    rf.n_estimators = n_estimators\n",
    "    rf.fit(X_train, y_train)\n",
    "    train_scores.append(rf.score(X_train, y_train))\n",
    "    test_scores.append(rf.score(X_test, y_test))"
   ]
  },
  {
   "cell_type": "code",
   "execution_count": 37,
   "metadata": {},
   "outputs": [
    {
     "data": {
      "text/plain": [
       "[1, 6, 11, 16, 21, 26, 31, 36, 41, 46, 51, 56, 61, 66, 71, 76, 81, 86, 91, 96]"
      ]
     },
     "execution_count": 37,
     "metadata": {},
     "output_type": "execute_result"
    }
   ],
   "source": [
    "list(estimator_range)"
   ]
  },
  {
   "cell_type": "code",
   "execution_count": 38,
   "metadata": {
    "scrolled": false
   },
   "outputs": [
    {
     "data": {
      "text/plain": [
       "<matplotlib.legend.Legend at 0x20c95ab4970>"
      ]
     },
     "execution_count": 38,
     "metadata": {},
     "output_type": "execute_result"
    },
    {
     "data": {
      "image/png": "[encoded data removed]",
      "text/plain": [
       "<Figure size 432x288 with 1 Axes>"
      ]
     },
     "metadata": {
      "needs_background": "light"
     },
     "output_type": "display_data"
    }
   ],
   "source": [
    "import matplotlib.pyplot as plt\n",
    "plt.plot(estimator_range, test_scores, label=\"test scores\")\n",
    "plt.plot(estimator_range, train_scores, label=\"train scores\")\n",
    "plt.ylabel(\"accuracy\")\n",
    "plt.xlabel(\"n_estimators\")\n",
    "plt.legend()"
   ]
  },
  {
   "cell_type": "code",
   "execution_count": 39,
   "metadata": {},
   "outputs": [
    {
     "name": "stdout",
     "output_type": "stream",
     "text": [
      "Wall time: 24.4 s\n",
      "RF accuracy:  0.8418291301496452\n"
     ]
    }
   ],
   "source": [
    "clf2 = RandomForestClassifier(n_estimators=100, max_features=\"auto\",random_state=0)\n",
    "%time clf2.fit(X_train, y_train)\n",
    "y_pred = clf2.predict(X_test)\n",
    "print('RF accuracy: ',accuracy_score(y_test, y_pred))"
   ]
  },
  {
   "cell_type": "code",
   "execution_count": 40,
   "metadata": {},
   "outputs": [
    {
     "name": "stdout",
     "output_type": "stream",
     "text": [
      "Wall time: 12.7 s\n",
      "AdaBoost accuracy:  0.8434090502593454\n"
     ]
    }
   ],
   "source": [
    "clf3 = AdaBoostClassifier(n_estimators=100)\n",
    "%time clf3.fit(X_train, y_train)\n",
    "y_pred = clf3.predict(X_test)\n",
    "print('AdaBoost accuracy: ',accuracy_score(y_test, y_pred))\n"
   ]
  },
  {
   "cell_type": "code",
   "execution_count": null,
   "metadata": {},
   "outputs": [],
   "source": []
  }
 ],
 "metadata": {
  "kernelspec": {
   "display_name": "Python 3",
   "language": "python",
   "name": "python3"
  },
  "language_info": {
   "codemirror_mode": {
    "name": "ipython",
    "version": 3
   },
   "file_extension": ".py",
   "mimetype": "text/x-python",
   "name": "python",
   "nbconvert_exporter": "python",
   "pygments_lexer": "ipython3",
   "version": "3.8.3"
  }
 },
 "nbformat": 4,
 "nbformat_minor": 4
}
